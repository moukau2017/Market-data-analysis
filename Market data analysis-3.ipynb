{
 "cells": [
  {
   "cell_type": "code",
   "execution_count": 1,
   "metadata": {},
   "outputs": [
    {
     "name": "stdout",
     "output_type": "stream",
     "text": [
      "Date\n",
      "Open\n",
      "High\n",
      "Low\n",
      "Close\n",
      "Adj Close\n",
      "Volume\n",
      "<class 'pandas.core.frame.DataFrame'>\n",
      "RangeIndex: 5232 entries, 0 to 5231\n",
      "Data columns (total 7 columns):\n",
      " #   Column     Non-Null Count  Dtype  \n",
      "---  ------     --------------  -----  \n",
      " 0   Date       5232 non-null   object \n",
      " 1   Open       5232 non-null   float64\n",
      " 2   High       5232 non-null   float64\n",
      " 3   Low        5232 non-null   float64\n",
      " 4   Close      5232 non-null   float64\n",
      " 5   Adj Close  5232 non-null   float64\n",
      " 6   Volume     5232 non-null   int64  \n",
      "dtypes: float64(5), int64(1), object(1)\n",
      "memory usage: 286.2+ KB\n"
     ]
    }
   ],
   "source": [
    "import pandas as pd\n",
    "import numpy as np\n",
    "import matplotlib.pyplot as plt\n",
    "\n",
    "df = pd.read_csv('MarketData.csv')\n",
    "for col in df.columns:\n",
    "    print(col)\n",
    "\n",
    "df.info()  "
   ]
  },
  {
   "cell_type": "code",
   "execution_count": 2,
   "metadata": {},
   "outputs": [
    {
     "name": "stdout",
     "output_type": "stream",
     "text": [
      "<class 'pandas.core.frame.DataFrame'>\n",
      "RangeIndex: 5232 entries, 0 to 5231\n",
      "Data columns (total 7 columns):\n",
      " #   Column     Non-Null Count  Dtype         \n",
      "---  ------     --------------  -----         \n",
      " 0   Date       5232 non-null   datetime64[ns]\n",
      " 1   Open       5232 non-null   float64       \n",
      " 2   High       5232 non-null   float64       \n",
      " 3   Low        5232 non-null   float64       \n",
      " 4   Close      5232 non-null   float64       \n",
      " 5   Adj Close  5232 non-null   float64       \n",
      " 6   Volume     5232 non-null   int64         \n",
      "dtypes: datetime64[ns](1), float64(5), int64(1)\n",
      "memory usage: 286.2 KB\n"
     ]
    }
   ],
   "source": [
    "df[\"Date\"] = pd.to_datetime(df[\"Date\"])\n",
    "df.info()  \n"
   ]
  },
  {
   "cell_type": "code",
   "execution_count": 3,
   "metadata": {},
   "outputs": [
    {
     "data": {
      "text/html": [
       "<div>\n",
       "<style scoped>\n",
       "    .dataframe tbody tr th:only-of-type {\n",
       "        vertical-align: middle;\n",
       "    }\n",
       "\n",
       "    .dataframe tbody tr th {\n",
       "        vertical-align: top;\n",
       "    }\n",
       "\n",
       "    .dataframe thead tr th {\n",
       "        text-align: left;\n",
       "    }\n",
       "</style>\n",
       "<table border=\"1\" class=\"dataframe\">\n",
       "  <thead>\n",
       "    <tr>\n",
       "      <th></th>\n",
       "      <th>year</th>\n",
       "      <th>month</th>\n",
       "      <th colspan=\"2\" halign=\"left\">Open</th>\n",
       "      <th colspan=\"2\" halign=\"left\">High</th>\n",
       "      <th colspan=\"2\" halign=\"left\">Low</th>\n",
       "      <th colspan=\"2\" halign=\"left\">Close</th>\n",
       "      <th colspan=\"2\" halign=\"left\">Adj Close</th>\n",
       "      <th colspan=\"2\" halign=\"left\">Volume</th>\n",
       "      <th>new_column</th>\n",
       "    </tr>\n",
       "    <tr>\n",
       "      <th></th>\n",
       "      <th></th>\n",
       "      <th></th>\n",
       "      <th>first</th>\n",
       "      <th>last</th>\n",
       "      <th>first</th>\n",
       "      <th>last</th>\n",
       "      <th>first</th>\n",
       "      <th>last</th>\n",
       "      <th>first</th>\n",
       "      <th>last</th>\n",
       "      <th>first</th>\n",
       "      <th>last</th>\n",
       "      <th>first</th>\n",
       "      <th>last</th>\n",
       "      <th></th>\n",
       "    </tr>\n",
       "  </thead>\n",
       "  <tbody>\n",
       "    <tr>\n",
       "      <th>0</th>\n",
       "      <td>2000</td>\n",
       "      <td>1</td>\n",
       "      <td>1469.250000</td>\n",
       "      <td>1360.160034</td>\n",
       "      <td>1478.000000</td>\n",
       "      <td>1394.479980</td>\n",
       "      <td>1438.359985</td>\n",
       "      <td>1350.140015</td>\n",
       "      <td>1455.219971</td>\n",
       "      <td>1394.459961</td>\n",
       "      <td>1455.219971</td>\n",
       "      <td>1394.459961</td>\n",
       "      <td>931800000</td>\n",
       "      <td>993800000</td>\n",
       "      <td>-0.050904</td>\n",
       "    </tr>\n",
       "    <tr>\n",
       "      <th>1</th>\n",
       "      <td>2000</td>\n",
       "      <td>2</td>\n",
       "      <td>1394.459961</td>\n",
       "      <td>1348.050049</td>\n",
       "      <td>1412.489990</td>\n",
       "      <td>1369.630005</td>\n",
       "      <td>1384.790039</td>\n",
       "      <td>1348.050049</td>\n",
       "      <td>1409.280029</td>\n",
       "      <td>1366.420044</td>\n",
       "      <td>1409.280029</td>\n",
       "      <td>1366.420044</td>\n",
       "      <td>981000000</td>\n",
       "      <td>1204300000</td>\n",
       "      <td>-0.020108</td>\n",
       "    </tr>\n",
       "    <tr>\n",
       "      <th>2</th>\n",
       "      <td>2000</td>\n",
       "      <td>3</td>\n",
       "      <td>1366.420044</td>\n",
       "      <td>1487.920044</td>\n",
       "      <td>1383.459961</td>\n",
       "      <td>1519.810059</td>\n",
       "      <td>1366.420044</td>\n",
       "      <td>1484.380005</td>\n",
       "      <td>1379.189941</td>\n",
       "      <td>1498.579956</td>\n",
       "      <td>1379.189941</td>\n",
       "      <td>1498.579956</td>\n",
       "      <td>1274100000</td>\n",
       "      <td>1227400000</td>\n",
       "      <td>0.096720</td>\n",
       "    </tr>\n",
       "    <tr>\n",
       "      <th>3</th>\n",
       "      <td>2000</td>\n",
       "      <td>4</td>\n",
       "      <td>1498.579956</td>\n",
       "      <td>1464.920044</td>\n",
       "      <td>1507.189941</td>\n",
       "      <td>1473.619995</td>\n",
       "      <td>1486.959961</td>\n",
       "      <td>1448.150024</td>\n",
       "      <td>1505.969971</td>\n",
       "      <td>1452.430054</td>\n",
       "      <td>1505.969971</td>\n",
       "      <td>1452.430054</td>\n",
       "      <td>1021700000</td>\n",
       "      <td>984600000</td>\n",
       "      <td>-0.030796</td>\n",
       "    </tr>\n",
       "    <tr>\n",
       "      <th>4</th>\n",
       "      <td>2000</td>\n",
       "      <td>5</td>\n",
       "      <td>1452.430054</td>\n",
       "      <td>1422.439941</td>\n",
       "      <td>1481.510010</td>\n",
       "      <td>1434.489990</td>\n",
       "      <td>1452.430054</td>\n",
       "      <td>1415.500000</td>\n",
       "      <td>1468.250000</td>\n",
       "      <td>1420.599976</td>\n",
       "      <td>1468.250000</td>\n",
       "      <td>1420.599976</td>\n",
       "      <td>966300000</td>\n",
       "      <td>960500000</td>\n",
       "      <td>-0.021915</td>\n",
       "    </tr>\n",
       "    <tr>\n",
       "      <th>...</th>\n",
       "      <td>...</td>\n",
       "      <td>...</td>\n",
       "      <td>...</td>\n",
       "      <td>...</td>\n",
       "      <td>...</td>\n",
       "      <td>...</td>\n",
       "      <td>...</td>\n",
       "      <td>...</td>\n",
       "      <td>...</td>\n",
       "      <td>...</td>\n",
       "      <td>...</td>\n",
       "      <td>...</td>\n",
       "      <td>...</td>\n",
       "      <td>...</td>\n",
       "      <td>...</td>\n",
       "    </tr>\n",
       "    <tr>\n",
       "      <th>245</th>\n",
       "      <td>2020</td>\n",
       "      <td>6</td>\n",
       "      <td>3038.780029</td>\n",
       "      <td>3050.199951</td>\n",
       "      <td>3062.179932</td>\n",
       "      <td>3111.510010</td>\n",
       "      <td>3031.540039</td>\n",
       "      <td>3047.830078</td>\n",
       "      <td>3055.729980</td>\n",
       "      <td>3100.290039</td>\n",
       "      <td>3055.729980</td>\n",
       "      <td>3100.290039</td>\n",
       "      <td>4673410000</td>\n",
       "      <td>4696280000</td>\n",
       "      <td>0.020242</td>\n",
       "    </tr>\n",
       "    <tr>\n",
       "      <th>246</th>\n",
       "      <td>2020</td>\n",
       "      <td>7</td>\n",
       "      <td>3105.919922</td>\n",
       "      <td>3270.449951</td>\n",
       "      <td>3128.439941</td>\n",
       "      <td>3272.169922</td>\n",
       "      <td>3101.169922</td>\n",
       "      <td>3220.260010</td>\n",
       "      <td>3115.860107</td>\n",
       "      <td>3271.120117</td>\n",
       "      <td>3115.860107</td>\n",
       "      <td>3271.120117</td>\n",
       "      <td>4443130000</td>\n",
       "      <td>5117260000</td>\n",
       "      <td>0.053189</td>\n",
       "    </tr>\n",
       "    <tr>\n",
       "      <th>247</th>\n",
       "      <td>2020</td>\n",
       "      <td>8</td>\n",
       "      <td>3288.260010</td>\n",
       "      <td>3509.729980</td>\n",
       "      <td>3302.729980</td>\n",
       "      <td>3514.770020</td>\n",
       "      <td>3284.530029</td>\n",
       "      <td>3493.250000</td>\n",
       "      <td>3294.610107</td>\n",
       "      <td>3500.310059</td>\n",
       "      <td>3294.610107</td>\n",
       "      <td>3500.310059</td>\n",
       "      <td>4643640000</td>\n",
       "      <td>4342290000</td>\n",
       "      <td>0.064487</td>\n",
       "    </tr>\n",
       "    <tr>\n",
       "      <th>248</th>\n",
       "      <td>2020</td>\n",
       "      <td>9</td>\n",
       "      <td>3507.439941</td>\n",
       "      <td>3341.209961</td>\n",
       "      <td>3528.030029</td>\n",
       "      <td>3393.560059</td>\n",
       "      <td>3494.600098</td>\n",
       "      <td>3340.469971</td>\n",
       "      <td>3526.649902</td>\n",
       "      <td>3363.000000</td>\n",
       "      <td>3526.649902</td>\n",
       "      <td>3363.000000</td>\n",
       "      <td>4083110000</td>\n",
       "      <td>4722530000</td>\n",
       "      <td>-0.041181</td>\n",
       "    </tr>\n",
       "    <tr>\n",
       "      <th>249</th>\n",
       "      <td>2020</td>\n",
       "      <td>10</td>\n",
       "      <td>3385.870117</td>\n",
       "      <td>3493.500000</td>\n",
       "      <td>3397.179932</td>\n",
       "      <td>3515.760010</td>\n",
       "      <td>3361.389893</td>\n",
       "      <td>3480.449951</td>\n",
       "      <td>3380.800049</td>\n",
       "      <td>3483.810059</td>\n",
       "      <td>3380.800049</td>\n",
       "      <td>3483.810059</td>\n",
       "      <td>4070530000</td>\n",
       "      <td>4675890000</td>\n",
       "      <td>0.028926</td>\n",
       "    </tr>\n",
       "  </tbody>\n",
       "</table>\n",
       "<p>250 rows × 15 columns</p>\n",
       "</div>"
      ],
      "text/plain": [
       "     year month         Open                      High               \\\n",
       "                       first         last        first         last   \n",
       "0    2000     1  1469.250000  1360.160034  1478.000000  1394.479980   \n",
       "1    2000     2  1394.459961  1348.050049  1412.489990  1369.630005   \n",
       "2    2000     3  1366.420044  1487.920044  1383.459961  1519.810059   \n",
       "3    2000     4  1498.579956  1464.920044  1507.189941  1473.619995   \n",
       "4    2000     5  1452.430054  1422.439941  1481.510010  1434.489990   \n",
       "..    ...   ...          ...          ...          ...          ...   \n",
       "245  2020     6  3038.780029  3050.199951  3062.179932  3111.510010   \n",
       "246  2020     7  3105.919922  3270.449951  3128.439941  3272.169922   \n",
       "247  2020     8  3288.260010  3509.729980  3302.729980  3514.770020   \n",
       "248  2020     9  3507.439941  3341.209961  3528.030029  3393.560059   \n",
       "249  2020    10  3385.870117  3493.500000  3397.179932  3515.760010   \n",
       "\n",
       "             Low                     Close                 Adj Close  \\\n",
       "           first         last        first         last        first   \n",
       "0    1438.359985  1350.140015  1455.219971  1394.459961  1455.219971   \n",
       "1    1384.790039  1348.050049  1409.280029  1366.420044  1409.280029   \n",
       "2    1366.420044  1484.380005  1379.189941  1498.579956  1379.189941   \n",
       "3    1486.959961  1448.150024  1505.969971  1452.430054  1505.969971   \n",
       "4    1452.430054  1415.500000  1468.250000  1420.599976  1468.250000   \n",
       "..           ...          ...          ...          ...          ...   \n",
       "245  3031.540039  3047.830078  3055.729980  3100.290039  3055.729980   \n",
       "246  3101.169922  3220.260010  3115.860107  3271.120117  3115.860107   \n",
       "247  3284.530029  3493.250000  3294.610107  3500.310059  3294.610107   \n",
       "248  3494.600098  3340.469971  3526.649902  3363.000000  3526.649902   \n",
       "249  3361.389893  3480.449951  3380.800049  3483.810059  3380.800049   \n",
       "\n",
       "                      Volume             new_column  \n",
       "            last       first        last             \n",
       "0    1394.459961   931800000   993800000  -0.050904  \n",
       "1    1366.420044   981000000  1204300000  -0.020108  \n",
       "2    1498.579956  1274100000  1227400000   0.096720  \n",
       "3    1452.430054  1021700000   984600000  -0.030796  \n",
       "4    1420.599976   966300000   960500000  -0.021915  \n",
       "..           ...         ...         ...        ...  \n",
       "245  3100.290039  4673410000  4696280000   0.020242  \n",
       "246  3271.120117  4443130000  5117260000   0.053189  \n",
       "247  3500.310059  4643640000  4342290000   0.064487  \n",
       "248  3363.000000  4083110000  4722530000  -0.041181  \n",
       "249  3483.810059  4070530000  4675890000   0.028926  \n",
       "\n",
       "[250 rows x 15 columns]"
      ]
     },
     "execution_count": 3,
     "metadata": {},
     "output_type": "execute_result"
    }
   ],
   "source": [
    "df.set_index(\"Date\", inplace=True)\n",
    "resultDf = df.groupby([df.index.year, df.index.month]).agg([\"first\", \"last\"])\n",
    "resultDf[\"new_column\"] = (resultDf[(\"Close\", \"last\")] / resultDf[(\"Open\", \"first\")])-1\n",
    "resultDf.index.rename([\"year\", \"month\"], inplace=True)\n",
    "resultDf.reset_index(inplace=True)\n",
    "resultDf\n",
    "#saved data as monthly return\n",
    "#resultDf.to_csv('monthly_return.csv')"
   ]
  },
  {
   "cell_type": "code",
   "execution_count": 4,
   "metadata": {},
   "outputs": [
    {
     "name": "stdout",
     "output_type": "stream",
     "text": [
      "Unnamed: 0\n",
      "year\n",
      "month\n",
      "Open\n",
      "Open1\n",
      "High\n",
      "High1\n",
      "Low\n",
      "Low1\n",
      "Close\n",
      "Close1\n",
      "Adj Close\n",
      "Adj Close1\n",
      "Volume\n",
      "Volume1\n",
      "new_column\n",
      "profit-nonprofit\n"
     ]
    }
   ],
   "source": [
    "dfM = pd.read_csv('monthly_return.csv')   \n",
    "for col in dfM.columns:\n",
    "    print(col)\n",
    "#labeled positive return as 1 and negative return as 0    \n",
    "prediction = []\n",
    "for value in dfM[\"new_column\"]:\n",
    "    if value >= 0:\n",
    "        prediction.append(\"1\")  #1 means profitable\n",
    "    \n",
    "    else:\n",
    "        prediction.append(\"0\")   #0 means non-profitable"
   ]
  },
  {
   "cell_type": "markdown",
   "metadata": {},
   "source": [
    "classification using decission tree"
   ]
  },
  {
   "cell_type": "code",
   "execution_count": 5,
   "metadata": {},
   "outputs": [],
   "source": [
    "df = pd.read_csv(\"monthly_return.csv\")"
   ]
  },
  {
   "cell_type": "code",
   "execution_count": 6,
   "metadata": {},
   "outputs": [],
   "source": [
    "df.head()\n",
    "df.dropna(inplace=True)\n",
    "#df = df.drop(['new_column'], axis=1) "
   ]
  },
  {
   "cell_type": "code",
   "execution_count": 7,
   "metadata": {},
   "outputs": [],
   "source": [
    "inputs = df.drop('profit-nonprofit',axis='columns')\n",
    "\n",
    "target=df['profit-nonprofit']"
   ]
  },
  {
   "cell_type": "code",
   "execution_count": 8,
   "metadata": {},
   "outputs": [
    {
     "data": {
      "text/plain": [
       "<AxesSubplot:xlabel='profit-nonprofit', ylabel='count'>"
      ]
     },
     "execution_count": 8,
     "metadata": {},
     "output_type": "execute_result"
    },
    {
     "data": {
      "image/png": "[encoded data removed]",
      "text/plain": [
       "<Figure size 432x288 with 1 Axes>"
      ]
     },
     "metadata": {
      "needs_background": "light"
     },
     "output_type": "display_data"
    }
   ],
   "source": [
    "df['profit-nonprofit'].value_counts()\n",
    "import seaborn as sns\n",
    "sns.countplot(x=\"profit-nonprofit\", data=df) "
   ]
  },
  {
   "cell_type": "code",
   "execution_count": 9,
   "metadata": {},
   "outputs": [],
   "source": [
    "#Define the dependent variable that needs to be predicted\n",
    "y = df[\"profit-nonprofit\"].values"
   ]
  },
  {
   "cell_type": "code",
   "execution_count": 10,
   "metadata": {},
   "outputs": [],
   "source": [
    "#Define the independent variables. Let's also drop Gender, so we can normalize other data\n",
    "X = df.drop(labels = [\"profit-nonprofit\"], axis=1) "
   ]
  },
  {
   "cell_type": "code",
   "execution_count": 11,
   "metadata": {},
   "outputs": [],
   "source": [
    "from sklearn.preprocessing import MinMaxScaler\n",
    "scaler = MinMaxScaler()\n",
    "scaler.fit(X)\n",
    "X1 = scaler.transform(X)"
   ]
  },
  {
   "cell_type": "code",
   "execution_count": 12,
   "metadata": {},
   "outputs": [
    {
     "data": {
      "text/plain": [
       "DecisionTreeClassifier()"
      ]
     },
     "execution_count": 12,
     "metadata": {},
     "output_type": "execute_result"
    }
   ],
   "source": [
    "#machine learning based prediction\n",
    "from sklearn.model_selection import KFold\n",
    "from sklearn import tree\n",
    "model = tree.DecisionTreeClassifier()\n",
    "model.fit(X1,y)"
   ]
  },
  {
   "cell_type": "code",
   "execution_count": 13,
   "metadata": {},
   "outputs": [
    {
     "name": "stdout",
     "output_type": "stream",
     "text": [
      "0.9733333333333334\n"
     ]
    },
    {
     "data": {
      "text/plain": [
       "<AxesSubplot:>"
      ]
     },
     "execution_count": 13,
     "metadata": {},
     "output_type": "execute_result"
    },
    {
     "data": {
      "image/png": "[encoded data removed]",
      "text/plain": [
       "<Figure size 432x288 with 2 Axes>"
      ]
     },
     "metadata": {
      "needs_background": "light"
     },
     "output_type": "display_data"
    }
   ],
   "source": [
    "#Split data into train and test to verify accuracy after fitting the model. \n",
    "from sklearn.model_selection import train_test_split\n",
    "X_train, X_test, y_train, y_test = train_test_split(X1, y, test_size=0.30)\n",
    "\n",
    "tree = model.fit(X_train, y_train)\n",
    "predictions = model.predict(X_test)\n",
    "from sklearn.metrics import accuracy_score\n",
    "print(accuracy_score(y_test, predictions))\n",
    "\n",
    "from sklearn.metrics import confusion_matrix\n",
    "import seaborn as sns\n",
    "from sklearn.metrics import confusion_matrix\n",
    "cm = confusion_matrix(y_test, predictions)\n",
    "sns.heatmap(cm, annot=True)"
   ]
  },
  {
   "cell_type": "code",
   "execution_count": 17,
   "metadata": {},
   "outputs": [
    {
     "name": "stdout",
     "output_type": "stream",
     "text": [
      "[1.   0.96 1.   1.   1.  ]\n",
      "0.992\n"
     ]
    }
   ],
   "source": [
    "#kfold_validation=KFold(10)\n",
    "\n",
    "from sklearn.model_selection import StratifiedKFold\n",
    "kfold_validation=StratifiedKFold(5)\n",
    "\n",
    "from sklearn.model_selection import cross_val_score\n",
    "results=cross_val_score(model,X1,y,cv=kfold_validation)\n",
    "print(results)\n",
    "import numpy as np\n",
    "print(np.mean(results))"
   ]
  },
  {
   "cell_type": "code",
   "execution_count": 18,
   "metadata": {},
   "outputs": [],
   "source": [
    "import matplotlib.pyplot as plt\n",
    "from sklearn.metrics import roc_curve, roc_auc_score\n",
    "from sklearn.metrics import roc_curve, roc_auc_score, auc"
   ]
  },
  {
   "cell_type": "code",
   "execution_count": 19,
   "metadata": {},
   "outputs": [
    {
     "name": "stdout",
     "output_type": "stream",
     "text": [
      "[1.0, 0.9666666666666667, 1.0, 1.0, 1.0]\n"
     ]
    },
    {
     "name": "stderr",
     "output_type": "stream",
     "text": [
      "<ipython-input-19-497d78c9bdcf>:10: DeprecationWarning: scipy.interp is deprecated and will be removed in SciPy 2.0.0, use numpy.interp instead\n",
      "  tprs.append(interp(mean_fpr, fpr, tpr))\n",
      "<ipython-input-19-497d78c9bdcf>:10: DeprecationWarning: scipy.interp is deprecated and will be removed in SciPy 2.0.0, use numpy.interp instead\n",
      "  tprs.append(interp(mean_fpr, fpr, tpr))\n",
      "<ipython-input-19-497d78c9bdcf>:10: DeprecationWarning: scipy.interp is deprecated and will be removed in SciPy 2.0.0, use numpy.interp instead\n",
      "  tprs.append(interp(mean_fpr, fpr, tpr))\n",
      "<ipython-input-19-497d78c9bdcf>:10: DeprecationWarning: scipy.interp is deprecated and will be removed in SciPy 2.0.0, use numpy.interp instead\n",
      "  tprs.append(interp(mean_fpr, fpr, tpr))\n",
      "<ipython-input-19-497d78c9bdcf>:10: DeprecationWarning: scipy.interp is deprecated and will be removed in SciPy 2.0.0, use numpy.interp instead\n",
      "  tprs.append(interp(mean_fpr, fpr, tpr))\n"
     ]
    },
    {
     "data": {
      "image/png": "[encoded data removed]",
      "text/plain": [
       "<Figure size 432x288 with 1 Axes>"
      ]
     },
     "metadata": {
      "needs_background": "light"
     },
     "output_type": "display_data"
    }
   ],
   "source": [
    "from scipy import interp\n",
    "cv = StratifiedKFold(n_splits=5)\n",
    "tprs = []\n",
    "aucs = []\n",
    "mean_fpr = np.linspace(0,1,100)\n",
    "i = 1\n",
    "for train,test in cv.split(X1,y):\n",
    "    prediction = model.fit(X1[train],y[train]).predict_proba(X1[test])\n",
    "    fpr, tpr, t = roc_curve(y[test], prediction[:, 1])\n",
    "    tprs.append(interp(mean_fpr, fpr, tpr))\n",
    "    roc_auc = auc(fpr, tpr)\n",
    "    aucs.append(roc_auc)\n",
    "    \n",
    "    plt.plot(fpr, tpr, lw=2, alpha=0.3, label='ROC fold %d (AUC = %0.2f)' % (i, roc_auc))\n",
    "    i= i+1\n",
    "\n",
    "plt.plot([0,1],[0,1],linestyle = '--',lw = 2,color = 'black')\n",
    "mean_tpr = np.mean(tprs, axis=0)\n",
    "mean_auc = auc(mean_fpr, mean_tpr)\n",
    "plt.plot(mean_fpr, mean_tpr, color='blue',\n",
    "         label=r'Mean ROC (AUC = %0.2f )' % (mean_auc),lw=2, alpha=1)\n",
    "\n",
    "print(aucs)\n",
    "plt.xlabel('False Positive Rate')\n",
    "plt.ylabel('True Positive Rate')\n",
    "plt.title('ROC')\n",
    "plt.legend(loc=\"lower right\")\n",
    "#plt.text(0.32,0.7,'More accurate area',fontsize = 12)\n",
    "#plt.text(0.63,0.4,'Less accurate area',fontsize = 12)\n",
    "plt.show()"
   ]
  },
  {
   "cell_type": "code",
   "execution_count": null,
   "metadata": {},
   "outputs": [],
   "source": []
  }
 ],
 "metadata": {
  "kernelspec": {
   "display_name": "Python 3",
   "language": "python",
   "name": "python3"
  },
  "language_info": {
   "codemirror_mode": {
    "name": "ipython",
    "version": 3
   },
   "file_extension": ".py",
   "mimetype": "text/x-python",
   "name": "python",
   "nbconvert_exporter": "python",
   "pygments_lexer": "ipython3",
   "version": "3.8.5"
  }
 },
 "nbformat": 4,
 "nbformat_minor": 4
}
