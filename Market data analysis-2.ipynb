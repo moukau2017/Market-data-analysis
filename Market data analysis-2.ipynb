{
 "cells": [
  {
   "cell_type": "code",
   "execution_count": 1,
   "metadata": {},
   "outputs": [],
   "source": [
    "import pandas as pd\n",
    "import numpy as np\n",
    "import matplotlib.pyplot as plt\n",
    "from sklearn.cluster import KMeans"
   ]
  },
  {
   "cell_type": "code",
   "execution_count": 2,
   "metadata": {},
   "outputs": [
    {
     "name": "stdout",
     "output_type": "stream",
     "text": [
      "Date\n",
      "Open\n",
      "High\n",
      "Low\n",
      "Close\n",
      "Adj Close\n",
      "Volume\n"
     ]
    }
   ],
   "source": [
    "df = pd.read_csv('MarketData.csv')\n",
    "for col in df.columns:\n",
    "    print(col)"
   ]
  },
  {
   "cell_type": "code",
   "execution_count": 3,
   "metadata": {},
   "outputs": [
    {
     "data": {
      "text/html": [
       "<div>\n",
       "<style scoped>\n",
       "    .dataframe tbody tr th:only-of-type {\n",
       "        vertical-align: middle;\n",
       "    }\n",
       "\n",
       "    .dataframe tbody tr th {\n",
       "        vertical-align: top;\n",
       "    }\n",
       "\n",
       "    .dataframe thead th {\n",
       "        text-align: right;\n",
       "    }\n",
       "</style>\n",
       "<table border=\"1\" class=\"dataframe\">\n",
       "  <thead>\n",
       "    <tr style=\"text-align: right;\">\n",
       "      <th></th>\n",
       "      <th>Date</th>\n",
       "      <th>Open</th>\n",
       "      <th>High</th>\n",
       "      <th>Low</th>\n",
       "      <th>Close</th>\n",
       "      <th>Adj Close</th>\n",
       "      <th>Volume</th>\n",
       "      <th>parameter_1</th>\n",
       "    </tr>\n",
       "  </thead>\n",
       "  <tbody>\n",
       "    <tr>\n",
       "      <th>0</th>\n",
       "      <td>1/3/2000</td>\n",
       "      <td>1469.250000</td>\n",
       "      <td>1478.000000</td>\n",
       "      <td>1438.359985</td>\n",
       "      <td>1455.219971</td>\n",
       "      <td>1455.219971</td>\n",
       "      <td>931800000</td>\n",
       "      <td>NaN</td>\n",
       "    </tr>\n",
       "    <tr>\n",
       "      <th>1</th>\n",
       "      <td>1/4/2000</td>\n",
       "      <td>1455.219971</td>\n",
       "      <td>1455.219971</td>\n",
       "      <td>1397.430054</td>\n",
       "      <td>1399.420044</td>\n",
       "      <td>1399.420044</td>\n",
       "      <td>1009000000</td>\n",
       "      <td>-0.009549</td>\n",
       "    </tr>\n",
       "    <tr>\n",
       "      <th>2</th>\n",
       "      <td>1/5/2000</td>\n",
       "      <td>1399.420044</td>\n",
       "      <td>1413.270020</td>\n",
       "      <td>1377.680054</td>\n",
       "      <td>1402.109985</td>\n",
       "      <td>1402.109985</td>\n",
       "      <td>1085500000</td>\n",
       "      <td>-0.038345</td>\n",
       "    </tr>\n",
       "    <tr>\n",
       "      <th>3</th>\n",
       "      <td>1/6/2000</td>\n",
       "      <td>1402.109985</td>\n",
       "      <td>1411.900024</td>\n",
       "      <td>1392.099976</td>\n",
       "      <td>1403.449951</td>\n",
       "      <td>1403.449951</td>\n",
       "      <td>1092300000</td>\n",
       "      <td>0.001922</td>\n",
       "    </tr>\n",
       "    <tr>\n",
       "      <th>4</th>\n",
       "      <td>1/7/2000</td>\n",
       "      <td>1403.449951</td>\n",
       "      <td>1441.469971</td>\n",
       "      <td>1400.729980</td>\n",
       "      <td>1441.469971</td>\n",
       "      <td>1441.469971</td>\n",
       "      <td>1225200000</td>\n",
       "      <td>0.000956</td>\n",
       "    </tr>\n",
       "  </tbody>\n",
       "</table>\n",
       "</div>"
      ],
      "text/plain": [
       "       Date         Open         High          Low        Close    Adj Close  \\\n",
       "0  1/3/2000  1469.250000  1478.000000  1438.359985  1455.219971  1455.219971   \n",
       "1  1/4/2000  1455.219971  1455.219971  1397.430054  1399.420044  1399.420044   \n",
       "2  1/5/2000  1399.420044  1413.270020  1377.680054  1402.109985  1402.109985   \n",
       "3  1/6/2000  1402.109985  1411.900024  1392.099976  1403.449951  1403.449951   \n",
       "4  1/7/2000  1403.449951  1441.469971  1400.729980  1441.469971  1441.469971   \n",
       "\n",
       "       Volume  parameter_1  \n",
       "0   931800000          NaN  \n",
       "1  1009000000    -0.009549  \n",
       "2  1085500000    -0.038345  \n",
       "3  1092300000     0.001922  \n",
       "4  1225200000     0.000956  "
      ]
     },
     "execution_count": 3,
     "metadata": {},
     "output_type": "execute_result"
    }
   ],
   "source": [
    "#Compute the fractional difference between current day open and previous day open (Parameter 1)\n",
    "df['parameter_1']=(df['Open']/df['Open'].shift(1))-1\n",
    "df.head()"
   ]
  },
  {
   "cell_type": "code",
   "execution_count": 4,
   "metadata": {},
   "outputs": [
    {
     "data": {
      "text/html": [
       "<div>\n",
       "<style scoped>\n",
       "    .dataframe tbody tr th:only-of-type {\n",
       "        vertical-align: middle;\n",
       "    }\n",
       "\n",
       "    .dataframe tbody tr th {\n",
       "        vertical-align: top;\n",
       "    }\n",
       "\n",
       "    .dataframe thead th {\n",
       "        text-align: right;\n",
       "    }\n",
       "</style>\n",
       "<table border=\"1\" class=\"dataframe\">\n",
       "  <thead>\n",
       "    <tr style=\"text-align: right;\">\n",
       "      <th></th>\n",
       "      <th>Date</th>\n",
       "      <th>Open</th>\n",
       "      <th>High</th>\n",
       "      <th>Low</th>\n",
       "      <th>Close</th>\n",
       "      <th>Adj Close</th>\n",
       "      <th>Volume</th>\n",
       "      <th>parameter_1</th>\n",
       "      <th>parameter_2</th>\n",
       "    </tr>\n",
       "  </thead>\n",
       "  <tbody>\n",
       "    <tr>\n",
       "      <th>0</th>\n",
       "      <td>1/3/2000</td>\n",
       "      <td>1469.250000</td>\n",
       "      <td>1478.000000</td>\n",
       "      <td>1438.359985</td>\n",
       "      <td>1455.219971</td>\n",
       "      <td>1455.219971</td>\n",
       "      <td>931800000</td>\n",
       "      <td>NaN</td>\n",
       "      <td>0.009641</td>\n",
       "    </tr>\n",
       "    <tr>\n",
       "      <th>1</th>\n",
       "      <td>1/4/2000</td>\n",
       "      <td>1455.219971</td>\n",
       "      <td>1455.219971</td>\n",
       "      <td>1397.430054</td>\n",
       "      <td>1399.420044</td>\n",
       "      <td>1399.420044</td>\n",
       "      <td>1009000000</td>\n",
       "      <td>-0.009549</td>\n",
       "      <td>0.039874</td>\n",
       "    </tr>\n",
       "    <tr>\n",
       "      <th>2</th>\n",
       "      <td>1/5/2000</td>\n",
       "      <td>1399.420044</td>\n",
       "      <td>1413.270020</td>\n",
       "      <td>1377.680054</td>\n",
       "      <td>1402.109985</td>\n",
       "      <td>1402.109985</td>\n",
       "      <td>1085500000</td>\n",
       "      <td>-0.038345</td>\n",
       "      <td>-0.001918</td>\n",
       "    </tr>\n",
       "    <tr>\n",
       "      <th>3</th>\n",
       "      <td>1/6/2000</td>\n",
       "      <td>1402.109985</td>\n",
       "      <td>1411.900024</td>\n",
       "      <td>1392.099976</td>\n",
       "      <td>1403.449951</td>\n",
       "      <td>1403.449951</td>\n",
       "      <td>1092300000</td>\n",
       "      <td>0.001922</td>\n",
       "      <td>-0.000955</td>\n",
       "    </tr>\n",
       "    <tr>\n",
       "      <th>4</th>\n",
       "      <td>1/7/2000</td>\n",
       "      <td>1403.449951</td>\n",
       "      <td>1441.469971</td>\n",
       "      <td>1400.729980</td>\n",
       "      <td>1441.469971</td>\n",
       "      <td>1441.469971</td>\n",
       "      <td>1225200000</td>\n",
       "      <td>0.000956</td>\n",
       "      <td>-0.026376</td>\n",
       "    </tr>\n",
       "  </tbody>\n",
       "</table>\n",
       "</div>"
      ],
      "text/plain": [
       "       Date         Open         High          Low        Close    Adj Close  \\\n",
       "0  1/3/2000  1469.250000  1478.000000  1438.359985  1455.219971  1455.219971   \n",
       "1  1/4/2000  1455.219971  1455.219971  1397.430054  1399.420044  1399.420044   \n",
       "2  1/5/2000  1399.420044  1413.270020  1377.680054  1402.109985  1402.109985   \n",
       "3  1/6/2000  1402.109985  1411.900024  1392.099976  1403.449951  1403.449951   \n",
       "4  1/7/2000  1403.449951  1441.469971  1400.729980  1441.469971  1441.469971   \n",
       "\n",
       "       Volume  parameter_1  parameter_2  \n",
       "0   931800000          NaN     0.009641  \n",
       "1  1009000000    -0.009549     0.039874  \n",
       "2  1085500000    -0.038345    -0.001918  \n",
       "3  1092300000     0.001922    -0.000955  \n",
       "4  1225200000     0.000956    -0.026376  "
      ]
     },
     "execution_count": 4,
     "metadata": {},
     "output_type": "execute_result"
    }
   ],
   "source": [
    "#Compute the fractional difference between current day open and current day close (Parameter 2)\n",
    "df['parameter_2']=(df['Open']/df['Close'])-1\n",
    "df.head()"
   ]
  },
  {
   "cell_type": "code",
   "execution_count": 5,
   "metadata": {},
   "outputs": [
    {
     "data": {
      "text/html": [
       "<div>\n",
       "<style scoped>\n",
       "    .dataframe tbody tr th:only-of-type {\n",
       "        vertical-align: middle;\n",
       "    }\n",
       "\n",
       "    .dataframe tbody tr th {\n",
       "        vertical-align: top;\n",
       "    }\n",
       "\n",
       "    .dataframe thead th {\n",
       "        text-align: right;\n",
       "    }\n",
       "</style>\n",
       "<table border=\"1\" class=\"dataframe\">\n",
       "  <thead>\n",
       "    <tr style=\"text-align: right;\">\n",
       "      <th></th>\n",
       "      <th>Date</th>\n",
       "      <th>Open</th>\n",
       "      <th>High</th>\n",
       "      <th>Low</th>\n",
       "      <th>Close</th>\n",
       "      <th>Adj Close</th>\n",
       "      <th>Volume</th>\n",
       "      <th>parameter_1</th>\n",
       "      <th>parameter_2</th>\n",
       "      <th>parameter_3</th>\n",
       "    </tr>\n",
       "  </thead>\n",
       "  <tbody>\n",
       "    <tr>\n",
       "      <th>0</th>\n",
       "      <td>1/3/2000</td>\n",
       "      <td>1469.250000</td>\n",
       "      <td>1478.000000</td>\n",
       "      <td>1438.359985</td>\n",
       "      <td>1455.219971</td>\n",
       "      <td>1455.219971</td>\n",
       "      <td>931800000</td>\n",
       "      <td>NaN</td>\n",
       "      <td>0.009641</td>\n",
       "      <td>NaN</td>\n",
       "    </tr>\n",
       "    <tr>\n",
       "      <th>1</th>\n",
       "      <td>1/4/2000</td>\n",
       "      <td>1455.219971</td>\n",
       "      <td>1455.219971</td>\n",
       "      <td>1397.430054</td>\n",
       "      <td>1399.420044</td>\n",
       "      <td>1399.420044</td>\n",
       "      <td>1009000000</td>\n",
       "      <td>-0.009549</td>\n",
       "      <td>0.039874</td>\n",
       "      <td>0.082850</td>\n",
       "    </tr>\n",
       "    <tr>\n",
       "      <th>2</th>\n",
       "      <td>1/5/2000</td>\n",
       "      <td>1399.420044</td>\n",
       "      <td>1413.270020</td>\n",
       "      <td>1377.680054</td>\n",
       "      <td>1402.109985</td>\n",
       "      <td>1402.109985</td>\n",
       "      <td>1085500000</td>\n",
       "      <td>-0.038345</td>\n",
       "      <td>-0.001918</td>\n",
       "      <td>0.075818</td>\n",
       "    </tr>\n",
       "    <tr>\n",
       "      <th>3</th>\n",
       "      <td>1/6/2000</td>\n",
       "      <td>1402.109985</td>\n",
       "      <td>1411.900024</td>\n",
       "      <td>1392.099976</td>\n",
       "      <td>1403.449951</td>\n",
       "      <td>1403.449951</td>\n",
       "      <td>1092300000</td>\n",
       "      <td>0.001922</td>\n",
       "      <td>-0.000955</td>\n",
       "      <td>0.006264</td>\n",
       "    </tr>\n",
       "    <tr>\n",
       "      <th>4</th>\n",
       "      <td>1/7/2000</td>\n",
       "      <td>1403.449951</td>\n",
       "      <td>1441.469971</td>\n",
       "      <td>1400.729980</td>\n",
       "      <td>1441.469971</td>\n",
       "      <td>1441.469971</td>\n",
       "      <td>1225200000</td>\n",
       "      <td>0.000956</td>\n",
       "      <td>-0.026376</td>\n",
       "      <td>0.121670</td>\n",
       "    </tr>\n",
       "  </tbody>\n",
       "</table>\n",
       "</div>"
      ],
      "text/plain": [
       "       Date         Open         High          Low        Close    Adj Close  \\\n",
       "0  1/3/2000  1469.250000  1478.000000  1438.359985  1455.219971  1455.219971   \n",
       "1  1/4/2000  1455.219971  1455.219971  1397.430054  1399.420044  1399.420044   \n",
       "2  1/5/2000  1399.420044  1413.270020  1377.680054  1402.109985  1402.109985   \n",
       "3  1/6/2000  1402.109985  1411.900024  1392.099976  1403.449951  1403.449951   \n",
       "4  1/7/2000  1403.449951  1441.469971  1400.729980  1441.469971  1441.469971   \n",
       "\n",
       "       Volume  parameter_1  parameter_2  parameter_3  \n",
       "0   931800000          NaN     0.009641          NaN  \n",
       "1  1009000000    -0.009549     0.039874     0.082850  \n",
       "2  1085500000    -0.038345    -0.001918     0.075818  \n",
       "3  1092300000     0.001922    -0.000955     0.006264  \n",
       "4  1225200000     0.000956    -0.026376     0.121670  "
      ]
     },
     "execution_count": 5,
     "metadata": {},
     "output_type": "execute_result"
    }
   ],
   "source": [
    "#Compute the fractional difference between current day volume and previous day volume (Parameter 3)\n",
    "df['parameter_3']=(df['Volume']/df['Volume'].shift(1))-1\n",
    "df.head()\n"
   ]
  },
  {
   "cell_type": "code",
   "execution_count": 6,
   "metadata": {},
   "outputs": [
    {
     "name": "stdout",
     "output_type": "stream",
     "text": [
      "parameter_1\n",
      "parameter_2\n",
      "parameter_3\n"
     ]
    }
   ],
   "source": [
    "df1=df[['parameter_1', 'parameter_2', 'parameter_3']]\n",
    "for col in df1.columns:\n",
    "    print(col)\n",
    "df1 = df1.dropna()"
   ]
  },
  {
   "cell_type": "code",
   "execution_count": 7,
   "metadata": {},
   "outputs": [],
   "source": [
    "from sklearn import datasets\n",
    "import scipy.cluster.hierarchy as shc\n",
    "from sklearn.cluster import AgglomerativeClustering"
   ]
  },
  {
   "cell_type": "code",
   "execution_count": 8,
   "metadata": {},
   "outputs": [
    {
     "data": {
      "image/png": "[encoded data removed]",
      "text/plain": [
       "<Figure size 720x432 with 1 Axes>"
      ]
     },
     "metadata": {
      "needs_background": "light"
     },
     "output_type": "display_data"
    }
   ],
   "source": [
    "plt.figure(figsize=(10,6))\n",
    "plt.title(\"Dendrograms\")\n",
    "dend = shc.dendrogram(shc.linkage(df1, method='ward'))"
   ]
  },
  {
   "cell_type": "code",
   "execution_count": null,
   "metadata": {},
   "outputs": [],
   "source": [
    "print(dend)\n",
    "print(dend['color_list'])"
   ]
  },
  {
   "cell_type": "code",
   "execution_count": 9,
   "metadata": {},
   "outputs": [
    {
     "name": "stdout",
     "output_type": "stream",
     "text": [
      "{'C2', 'C3', 'C0', 'C1'}\n",
      "3\n"
     ]
    }
   ],
   "source": [
    "unique_color = set(dend['color_list'])\n",
    "print(unique_color)\n",
    "optimal_number_of_cluster=len(unique_color)-1\n",
    "print(optimal_number_of_cluster)\n"
   ]
  },
  {
   "cell_type": "markdown",
   "metadata": {},
   "source": [
    "Cluster the above data set (Parameters 1, 2, 3)"
   ]
  },
  {
   "cell_type": "code",
   "execution_count": 10,
   "metadata": {},
   "outputs": [
    {
     "name": "stdout",
     "output_type": "stream",
     "text": [
      "parameter_1\n",
      "parameter_2\n",
      "parameter_3\n"
     ]
    }
   ],
   "source": [
    "from sklearn.preprocessing import StandardScaler\n",
    "df1=df[['parameter_1', 'parameter_2', 'parameter_3']]\n",
    "for col in df1.columns:\n",
    "    print(col)\n",
    "\n",
    "df1 = df1.dropna()"
   ]
  },
  {
   "cell_type": "code",
   "execution_count": 11,
   "metadata": {},
   "outputs": [],
   "source": [
    "scalar = StandardScaler()"
   ]
  },
  {
   "cell_type": "code",
   "execution_count": 12,
   "metadata": {},
   "outputs": [],
   "source": [
    "df1[['parameter_1T','parameter_2T','parameter_3T']] = scalar.fit_transform(df1[['parameter_1','parameter_2','parameter_3']])"
   ]
  },
  {
   "cell_type": "code",
   "execution_count": 13,
   "metadata": {},
   "outputs": [],
   "source": [
    "def optimise_k_means(data, max_k):\n",
    "    means = []\n",
    "    inertias = []\n",
    "    \n",
    "    for k in range(1, max_k):\n",
    "        kmeans= KMeans(n_clusters=k)\n",
    "        kmeans.fit(data)\n",
    "        \n",
    "        means.append(k)\n",
    "        inertias.append(kmeans.inertia_)\n",
    "        \n",
    "    fig = plt.subplots(figsize=(10,5))\n",
    "    plt.plot(means, inertias)\n",
    "    plt.xlabel('number of clusters')\n",
    "    plt.ylabel('Inertia')\n",
    "    plt.grid(True)\n",
    "    plt.show()"
   ]
  },
  {
   "cell_type": "code",
   "execution_count": 14,
   "metadata": {},
   "outputs": [
    {
     "data": {
      "image/png": "[encoded data removed]",
      "text/plain": [
       "<Figure size 720x360 with 1 Axes>"
      ]
     },
     "metadata": {
      "needs_background": "light"
     },
     "output_type": "display_data"
    }
   ],
   "source": [
    "optimise_k_means(df1[['parameter_1T','parameter_2T','parameter_3T']], 15)"
   ]
  },
  {
   "cell_type": "code",
   "execution_count": 15,
   "metadata": {},
   "outputs": [
    {
     "data": {
      "text/plain": [
       "KMeans(n_clusters=3)"
      ]
     },
     "execution_count": 15,
     "metadata": {},
     "output_type": "execute_result"
    }
   ],
   "source": [
    "kmeans = KMeans(n_clusters=3)\n",
    "kmeans.fit(df1[['parameter_1T','parameter_2T','parameter_3T']])"
   ]
  },
  {
   "cell_type": "code",
   "execution_count": 16,
   "metadata": {},
   "outputs": [
    {
     "data": {
      "text/html": [
       "<div>\n",
       "<style scoped>\n",
       "    .dataframe tbody tr th:only-of-type {\n",
       "        vertical-align: middle;\n",
       "    }\n",
       "\n",
       "    .dataframe tbody tr th {\n",
       "        vertical-align: top;\n",
       "    }\n",
       "\n",
       "    .dataframe thead th {\n",
       "        text-align: right;\n",
       "    }\n",
       "</style>\n",
       "<table border=\"1\" class=\"dataframe\">\n",
       "  <thead>\n",
       "    <tr style=\"text-align: right;\">\n",
       "      <th></th>\n",
       "      <th>parameter_1</th>\n",
       "      <th>parameter_2</th>\n",
       "      <th>parameter_3</th>\n",
       "      <th>parameter_1T</th>\n",
       "      <th>parameter_2T</th>\n",
       "      <th>parameter_3T</th>\n",
       "      <th>kmeans_3</th>\n",
       "    </tr>\n",
       "  </thead>\n",
       "  <tbody>\n",
       "    <tr>\n",
       "      <th>1</th>\n",
       "      <td>-0.009549</td>\n",
       "      <td>0.039874</td>\n",
       "      <td>0.082850</td>\n",
       "      <td>-0.836239</td>\n",
       "      <td>3.447063</td>\n",
       "      <td>0.309502</td>\n",
       "      <td>1</td>\n",
       "    </tr>\n",
       "    <tr>\n",
       "      <th>2</th>\n",
       "      <td>-0.038345</td>\n",
       "      <td>-0.001918</td>\n",
       "      <td>0.075818</td>\n",
       "      <td>-3.297586</td>\n",
       "      <td>-0.162481</td>\n",
       "      <td>0.275779</td>\n",
       "      <td>2</td>\n",
       "    </tr>\n",
       "    <tr>\n",
       "      <th>3</th>\n",
       "      <td>0.001922</td>\n",
       "      <td>-0.000955</td>\n",
       "      <td>0.006264</td>\n",
       "      <td>0.144289</td>\n",
       "      <td>-0.079244</td>\n",
       "      <td>-0.057743</td>\n",
       "      <td>0</td>\n",
       "    </tr>\n",
       "    <tr>\n",
       "      <th>4</th>\n",
       "      <td>0.000956</td>\n",
       "      <td>-0.026376</td>\n",
       "      <td>0.121670</td>\n",
       "      <td>0.061675</td>\n",
       "      <td>-2.274840</td>\n",
       "      <td>0.495649</td>\n",
       "      <td>2</td>\n",
       "    </tr>\n",
       "    <tr>\n",
       "      <th>5</th>\n",
       "      <td>0.027090</td>\n",
       "      <td>-0.011066</td>\n",
       "      <td>-0.130917</td>\n",
       "      <td>2.295583</td>\n",
       "      <td>-0.952554</td>\n",
       "      <td>-0.715556</td>\n",
       "      <td>0</td>\n",
       "    </tr>\n",
       "    <tr>\n",
       "      <th>...</th>\n",
       "      <td>...</td>\n",
       "      <td>...</td>\n",
       "      <td>...</td>\n",
       "      <td>...</td>\n",
       "      <td>...</td>\n",
       "      <td>...</td>\n",
       "      <td>...</td>\n",
       "    </tr>\n",
       "    <tr>\n",
       "      <th>5227</th>\n",
       "      <td>0.011663</td>\n",
       "      <td>-0.009677</td>\n",
       "      <td>-0.129495</td>\n",
       "      <td>0.976900</td>\n",
       "      <td>-0.832558</td>\n",
       "      <td>-0.708737</td>\n",
       "      <td>0</td>\n",
       "    </tr>\n",
       "    <tr>\n",
       "      <th>5228</th>\n",
       "      <td>0.009711</td>\n",
       "      <td>0.006287</td>\n",
       "      <td>0.051380</td>\n",
       "      <td>0.810082</td>\n",
       "      <td>0.546234</td>\n",
       "      <td>0.158595</td>\n",
       "      <td>0</td>\n",
       "    </tr>\n",
       "    <tr>\n",
       "      <th>5229</th>\n",
       "      <td>-0.005246</td>\n",
       "      <td>0.007682</td>\n",
       "      <td>0.065318</td>\n",
       "      <td>-0.468438</td>\n",
       "      <td>0.666707</td>\n",
       "      <td>0.225429</td>\n",
       "      <td>1</td>\n",
       "    </tr>\n",
       "    <tr>\n",
       "      <th>5230</th>\n",
       "      <td>-0.017565</td>\n",
       "      <td>-0.008503</td>\n",
       "      <td>-0.032023</td>\n",
       "      <td>-1.521429</td>\n",
       "      <td>-0.731210</td>\n",
       "      <td>-0.241340</td>\n",
       "      <td>2</td>\n",
       "    </tr>\n",
       "    <tr>\n",
       "      <th>5231</th>\n",
       "      <td>0.011518</td>\n",
       "      <td>0.002781</td>\n",
       "      <td>0.257758</td>\n",
       "      <td>0.964509</td>\n",
       "      <td>0.243447</td>\n",
       "      <td>1.148217</td>\n",
       "      <td>0</td>\n",
       "    </tr>\n",
       "  </tbody>\n",
       "</table>\n",
       "<p>5231 rows × 7 columns</p>\n",
       "</div>"
      ],
      "text/plain": [
       "      parameter_1  parameter_2  parameter_3  parameter_1T  parameter_2T  \\\n",
       "1       -0.009549     0.039874     0.082850     -0.836239      3.447063   \n",
       "2       -0.038345    -0.001918     0.075818     -3.297586     -0.162481   \n",
       "3        0.001922    -0.000955     0.006264      0.144289     -0.079244   \n",
       "4        0.000956    -0.026376     0.121670      0.061675     -2.274840   \n",
       "5        0.027090    -0.011066    -0.130917      2.295583     -0.952554   \n",
       "...           ...          ...          ...           ...           ...   \n",
       "5227     0.011663    -0.009677    -0.129495      0.976900     -0.832558   \n",
       "5228     0.009711     0.006287     0.051380      0.810082      0.546234   \n",
       "5229    -0.005246     0.007682     0.065318     -0.468438      0.666707   \n",
       "5230    -0.017565    -0.008503    -0.032023     -1.521429     -0.731210   \n",
       "5231     0.011518     0.002781     0.257758      0.964509      0.243447   \n",
       "\n",
       "      parameter_3T  kmeans_3  \n",
       "1         0.309502         1  \n",
       "2         0.275779         2  \n",
       "3        -0.057743         0  \n",
       "4         0.495649         2  \n",
       "5        -0.715556         0  \n",
       "...            ...       ...  \n",
       "5227     -0.708737         0  \n",
       "5228      0.158595         0  \n",
       "5229      0.225429         1  \n",
       "5230     -0.241340         2  \n",
       "5231      1.148217         0  \n",
       "\n",
       "[5231 rows x 7 columns]"
      ]
     },
     "execution_count": 16,
     "metadata": {},
     "output_type": "execute_result"
    }
   ],
   "source": [
    "df1['kmeans_3']= kmeans.labels_\n",
    "df1"
   ]
  },
  {
   "cell_type": "code",
   "execution_count": 17,
   "metadata": {},
   "outputs": [
    {
     "data": {
      "text/plain": [
       "<matplotlib.collections.PathCollection at 0x213ec4d5520>"
      ]
     },
     "execution_count": 17,
     "metadata": {},
     "output_type": "execute_result"
    },
    {
     "data": {
      "image/png": "[encoded data removed]",
      "text/plain": [
       "<Figure size 432x288 with 1 Axes>"
      ]
     },
     "metadata": {
      "needs_background": "light"
     },
     "output_type": "display_data"
    }
   ],
   "source": [
    "plt.scatter(x=df1['parameter_1'],y=df1['parameter_2'], c=df1['kmeans_3'])"
   ]
  },
  {
   "cell_type": "code",
   "execution_count": null,
   "metadata": {},
   "outputs": [],
   "source": []
  }
 ],
 "metadata": {
  "kernelspec": {
   "display_name": "Python 3",
   "language": "python",
   "name": "python3"
  },
  "language_info": {
   "codemirror_mode": {
    "name": "ipython",
    "version": 3
   },
   "file_extension": ".py",
   "mimetype": "text/x-python",
   "name": "python",
   "nbconvert_exporter": "python",
   "pygments_lexer": "ipython3",
   "version": "3.8.5"
  }
 },
 "nbformat": 4,
 "nbformat_minor": 4
}
